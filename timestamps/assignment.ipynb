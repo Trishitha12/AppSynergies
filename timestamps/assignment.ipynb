{
 "cells": [
  {
   "cell_type": "code",
   "execution_count": 2,
   "metadata": {},
   "outputs": [
    {
     "name": "stdout",
     "output_type": "stream",
     "text": [
      "connecting to the database\n"
     ]
    }
   ],
   "source": [
    "#getting data from firebase\n",
    "\n",
    "import io\n",
    "import pandas as pd\n",
    "import firebase_admin\n",
    "from firebase_admin import credentials\n",
    "import firebase_admin\n",
    "cred = credentials.Certificate('MainKey.json')\n",
    "#from google.cloud.firestore_v1 import Increment\n",
    "from datetime import datetime, date\n",
    "import dateutil.parser as parser\n",
    "print(\"connecting to the database\")\n",
    "try:    \n",
    "    firebase_admin.initialize_app(cred)\n",
    "except:\n",
    "    pass"
   ]
  },
  {
   "cell_type": "code",
   "execution_count": 12,
   "metadata": {},
   "outputs": [
    {
     "name": "stdout",
     "output_type": "stream",
     "text": [
      "Collecting data\n",
      "generating Dataframes from pulled data.\n"
     ]
    },
    {
     "data": {
      "text/html": [
       "<div>\n",
       "<style scoped>\n",
       "    .dataframe tbody tr th:only-of-type {\n",
       "        vertical-align: middle;\n",
       "    }\n",
       "\n",
       "    .dataframe tbody tr th {\n",
       "        vertical-align: top;\n",
       "    }\n",
       "\n",
       "    .dataframe thead th {\n",
       "        text-align: right;\n",
       "    }\n",
       "</style>\n",
       "<table border=\"1\" class=\"dataframe\">\n",
       "  <thead>\n",
       "    <tr style=\"text-align: right;\">\n",
       "      <th></th>\n",
       "    </tr>\n",
       "  </thead>\n",
       "  <tbody>\n",
       "  </tbody>\n",
       "</table>\n",
       "</div>"
      ],
      "text/plain": [
       "Empty DataFrame\n",
       "Columns: []\n",
       "Index: []"
      ]
     },
     "execution_count": 12,
     "metadata": {},
     "output_type": "execute_result"
    }
   ],
   "source": [
    "from firebase_admin import firestore\n",
    "db = firestore.client()\n",
    "user_ref = db.collection(u'root').limit(5000)\n",
    "user_doc = user_ref.stream()\n",
    "userData = {}\n",
    "data = []\n",
    "print(\"Collecting data\")\n",
    "count = 0\n",
    "for doc in user_doc:\n",
    "    if doc.to_dict()['appLastOpened']==5:\n",
    "        userData['UserId'] = doc.id\n",
    "        userData['appLastOpened']=doc.to_dict()['appLastOpened']\n",
    "        #userData['appOpenedTimeStamps']=doc.to_dict()['appOpenedTimeStamps']\n",
    "        data.append(userData)    \n",
    "        count += 1\n",
    "print(\"generating Dataframes from pulled data.\")\n",
    "dfx = pd.DataFrame(data)\n",
    "dfx"
   ]
  },
  {
   "cell_type": "code",
   "execution_count": null,
   "metadata": {},
   "outputs": [],
   "source": []
  }
 ],
 "metadata": {
  "kernelspec": {
   "display_name": "Python 3.9.1 64-bit",
   "language": "python",
   "name": "python3"
  },
  "language_info": {
   "codemirror_mode": {
    "name": "ipython",
    "version": 3
   },
   "file_extension": ".py",
   "mimetype": "text/x-python",
   "name": "python",
   "nbconvert_exporter": "python",
   "pygments_lexer": "ipython3",
   "version": "3.9.1"
  },
  "orig_nbformat": 4,
  "vscode": {
   "interpreter": {
    "hash": "c65175c43396550070ce5600d95cc78f5bd01c3b8fa4743b3474c0c06021deff"
   }
  }
 },
 "nbformat": 4,
 "nbformat_minor": 2
}
